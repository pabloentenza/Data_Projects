{
 "cells": [
  {
   "attachments": {},
   "cell_type": "markdown",
   "metadata": {},
   "source": [
    "**Tijuana house prediction price**"
   ]
  },
  {
   "cell_type": "code",
   "execution_count": 117,
   "metadata": {},
   "outputs": [],
   "source": [
    "import pandas as pd\n",
    "import numpy as np\n",
    "import seaborn as sns\n",
    "import matplotlib.pyplot as plt\n",
    "# from geopy.distance import geodesic\n",
    "from sklearn.preprocessing import RobustScaler\n",
    "from sklearn.model_selection import train_test_split\n",
    "from sklearn.linear_model import LinearRegression\n",
    "from sklearn.linear_model import Ridge\n",
    "from sklearn.metrics import  r2_score\n",
    "from scipy.stats import skew #for some statistics\n",
    "import warnings\n",
    "warnings.filterwarnings('ignore')\n",
    "\n",
    "\n"
   ]
  },
  {
   "cell_type": "code",
   "execution_count": 118,
   "metadata": {},
   "outputs": [],
   "source": [
    "url = 'https://raw.githubusercontent.com/IvanVC21/Tijuana-house-prices/main/tijuana_prices.csv'\n",
    "df = pd.read_csv(url)"
   ]
  },
  {
   "cell_type": "code",
   "execution_count": 119,
   "metadata": {},
   "outputs": [
    {
     "data": {
      "text/html": [
       "<div>\n",
       "<style scoped>\n",
       "    .dataframe tbody tr th:only-of-type {\n",
       "        vertical-align: middle;\n",
       "    }\n",
       "\n",
       "    .dataframe tbody tr th {\n",
       "        vertical-align: top;\n",
       "    }\n",
       "\n",
       "    .dataframe thead th {\n",
       "        text-align: right;\n",
       "    }\n",
       "</style>\n",
       "<table border=\"1\" class=\"dataframe\">\n",
       "  <thead>\n",
       "    <tr style=\"text-align: right;\">\n",
       "      <th></th>\n",
       "      <th>price</th>\n",
       "      <th>currency</th>\n",
       "      <th>bedrooms</th>\n",
       "      <th>bathrooms</th>\n",
       "      <th>parkingSpots</th>\n",
       "      <th>propertySize</th>\n",
       "      <th>neighborhood</th>\n",
       "      <th>lat</th>\n",
       "      <th>lon</th>\n",
       "    </tr>\n",
       "  </thead>\n",
       "  <tbody>\n",
       "    <tr>\n",
       "      <th>0</th>\n",
       "      <td>150000.0</td>\n",
       "      <td>USD</td>\n",
       "      <td>4.0</td>\n",
       "      <td>2.0</td>\n",
       "      <td>3.0</td>\n",
       "      <td>130.0</td>\n",
       "      <td>Las Americas, Tijuana</td>\n",
       "      <td>32.500975</td>\n",
       "      <td>-116.896457</td>\n",
       "    </tr>\n",
       "    <tr>\n",
       "      <th>1</th>\n",
       "      <td>774900.0</td>\n",
       "      <td>USD</td>\n",
       "      <td>3.0</td>\n",
       "      <td>3.0</td>\n",
       "      <td>2.0</td>\n",
       "      <td>550.0</td>\n",
       "      <td>Hacienda Agua Caliente, Tijuana</td>\n",
       "      <td>32.488683</td>\n",
       "      <td>-116.999223</td>\n",
       "    </tr>\n",
       "    <tr>\n",
       "      <th>2</th>\n",
       "      <td>3000000.0</td>\n",
       "      <td>MN</td>\n",
       "      <td>3.0</td>\n",
       "      <td>2.0</td>\n",
       "      <td>2.0</td>\n",
       "      <td>107.0</td>\n",
       "      <td>Lomas de La Presa, Tijuana</td>\n",
       "      <td>32.448786</td>\n",
       "      <td>-116.924895</td>\n",
       "    </tr>\n",
       "    <tr>\n",
       "      <th>3</th>\n",
       "      <td>385000.0</td>\n",
       "      <td>USD</td>\n",
       "      <td>4.0</td>\n",
       "      <td>3.0</td>\n",
       "      <td>3.0</td>\n",
       "      <td>350.0</td>\n",
       "      <td>Xicotencatl Leyva, Tijuana</td>\n",
       "      <td>32.538363</td>\n",
       "      <td>-116.931519</td>\n",
       "    </tr>\n",
       "    <tr>\n",
       "      <th>4</th>\n",
       "      <td>70000.0</td>\n",
       "      <td>USD</td>\n",
       "      <td>2.0</td>\n",
       "      <td>1.0</td>\n",
       "      <td>1.0</td>\n",
       "      <td>80.0</td>\n",
       "      <td>Vaim, Tijuana</td>\n",
       "      <td>32.493642</td>\n",
       "      <td>-116.942191</td>\n",
       "    </tr>\n",
       "  </tbody>\n",
       "</table>\n",
       "</div>"
      ],
      "text/plain": [
       "       price currency  bedrooms  bathrooms  parkingSpots  propertySize  \\\n",
       "0   150000.0      USD       4.0        2.0           3.0         130.0   \n",
       "1   774900.0      USD       3.0        3.0           2.0         550.0   \n",
       "2  3000000.0       MN       3.0        2.0           2.0         107.0   \n",
       "3   385000.0      USD       4.0        3.0           3.0         350.0   \n",
       "4    70000.0      USD       2.0        1.0           1.0          80.0   \n",
       "\n",
       "                      neighborhood        lat         lon  \n",
       "0            Las Americas, Tijuana  32.500975 -116.896457  \n",
       "1  Hacienda Agua Caliente, Tijuana  32.488683 -116.999223  \n",
       "2       Lomas de La Presa, Tijuana  32.448786 -116.924895  \n",
       "3       Xicotencatl Leyva, Tijuana  32.538363 -116.931519  \n",
       "4                    Vaim, Tijuana  32.493642 -116.942191  "
      ]
     },
     "execution_count": 119,
     "metadata": {},
     "output_type": "execute_result"
    }
   ],
   "source": [
    "df.head()"
   ]
  },
  {
   "cell_type": "code",
   "execution_count": 120,
   "metadata": {},
   "outputs": [
    {
     "data": {
      "text/plain": [
       "(888, 9)"
      ]
     },
     "execution_count": 120,
     "metadata": {},
     "output_type": "execute_result"
    }
   ],
   "source": [
    "df.shape"
   ]
  },
  {
   "cell_type": "code",
   "execution_count": 121,
   "metadata": {},
   "outputs": [
    {
     "name": "stdout",
     "output_type": "stream",
     "text": [
      "<class 'pandas.core.frame.DataFrame'>\n",
      "RangeIndex: 888 entries, 0 to 887\n",
      "Data columns (total 9 columns):\n",
      " #   Column        Non-Null Count  Dtype  \n",
      "---  ------        --------------  -----  \n",
      " 0   price         887 non-null    float64\n",
      " 1   currency      887 non-null    object \n",
      " 2   bedrooms      877 non-null    float64\n",
      " 3   bathrooms     867 non-null    float64\n",
      " 4   parkingSpots  799 non-null    float64\n",
      " 5   propertySize  885 non-null    float64\n",
      " 6   neighborhood  888 non-null    object \n",
      " 7   lat           888 non-null    float64\n",
      " 8   lon           888 non-null    float64\n",
      "dtypes: float64(7), object(2)\n",
      "memory usage: 62.6+ KB\n"
     ]
    }
   ],
   "source": [
    "df.info()"
   ]
  },
  {
   "cell_type": "code",
   "execution_count": 122,
   "metadata": {},
   "outputs": [],
   "source": [
    "df_price = df.copy()"
   ]
  },
  {
   "attachments": {},
   "cell_type": "markdown",
   "metadata": {},
   "source": [
    "**Turn mexicans pesos into USD**"
   ]
  },
  {
   "cell_type": "code",
   "execution_count": 123,
   "metadata": {},
   "outputs": [],
   "source": [
    "mask = df_price['currency'] == 'MN'\n",
    "df_price['price'] = np.where(mask,df_price['price']/20,df_price['price'])\n",
    "df_price.drop('currency', axis=1, inplace=True)"
   ]
  },
  {
   "cell_type": "code",
   "execution_count": 124,
   "metadata": {},
   "outputs": [
    {
     "data": {
      "text/html": [
       "<div>\n",
       "<style scoped>\n",
       "    .dataframe tbody tr th:only-of-type {\n",
       "        vertical-align: middle;\n",
       "    }\n",
       "\n",
       "    .dataframe tbody tr th {\n",
       "        vertical-align: top;\n",
       "    }\n",
       "\n",
       "    .dataframe thead th {\n",
       "        text-align: right;\n",
       "    }\n",
       "</style>\n",
       "<table border=\"1\" class=\"dataframe\">\n",
       "  <thead>\n",
       "    <tr style=\"text-align: right;\">\n",
       "      <th></th>\n",
       "      <th>price</th>\n",
       "      <th>bedrooms</th>\n",
       "      <th>bathrooms</th>\n",
       "      <th>parkingSpots</th>\n",
       "      <th>propertySize</th>\n",
       "      <th>neighborhood</th>\n",
       "      <th>lat</th>\n",
       "      <th>lon</th>\n",
       "    </tr>\n",
       "  </thead>\n",
       "  <tbody>\n",
       "    <tr>\n",
       "      <th>0</th>\n",
       "      <td>150000.0</td>\n",
       "      <td>4.0</td>\n",
       "      <td>2.0</td>\n",
       "      <td>3.0</td>\n",
       "      <td>130.0</td>\n",
       "      <td>Las Americas, Tijuana</td>\n",
       "      <td>32.500975</td>\n",
       "      <td>-116.896457</td>\n",
       "    </tr>\n",
       "    <tr>\n",
       "      <th>1</th>\n",
       "      <td>774900.0</td>\n",
       "      <td>3.0</td>\n",
       "      <td>3.0</td>\n",
       "      <td>2.0</td>\n",
       "      <td>550.0</td>\n",
       "      <td>Hacienda Agua Caliente, Tijuana</td>\n",
       "      <td>32.488683</td>\n",
       "      <td>-116.999223</td>\n",
       "    </tr>\n",
       "    <tr>\n",
       "      <th>2</th>\n",
       "      <td>150000.0</td>\n",
       "      <td>3.0</td>\n",
       "      <td>2.0</td>\n",
       "      <td>2.0</td>\n",
       "      <td>107.0</td>\n",
       "      <td>Lomas de La Presa, Tijuana</td>\n",
       "      <td>32.448786</td>\n",
       "      <td>-116.924895</td>\n",
       "    </tr>\n",
       "    <tr>\n",
       "      <th>3</th>\n",
       "      <td>385000.0</td>\n",
       "      <td>4.0</td>\n",
       "      <td>3.0</td>\n",
       "      <td>3.0</td>\n",
       "      <td>350.0</td>\n",
       "      <td>Xicotencatl Leyva, Tijuana</td>\n",
       "      <td>32.538363</td>\n",
       "      <td>-116.931519</td>\n",
       "    </tr>\n",
       "    <tr>\n",
       "      <th>4</th>\n",
       "      <td>70000.0</td>\n",
       "      <td>2.0</td>\n",
       "      <td>1.0</td>\n",
       "      <td>1.0</td>\n",
       "      <td>80.0</td>\n",
       "      <td>Vaim, Tijuana</td>\n",
       "      <td>32.493642</td>\n",
       "      <td>-116.942191</td>\n",
       "    </tr>\n",
       "  </tbody>\n",
       "</table>\n",
       "</div>"
      ],
      "text/plain": [
       "      price  bedrooms  bathrooms  parkingSpots  propertySize  \\\n",
       "0  150000.0       4.0        2.0           3.0         130.0   \n",
       "1  774900.0       3.0        3.0           2.0         550.0   \n",
       "2  150000.0       3.0        2.0           2.0         107.0   \n",
       "3  385000.0       4.0        3.0           3.0         350.0   \n",
       "4   70000.0       2.0        1.0           1.0          80.0   \n",
       "\n",
       "                      neighborhood        lat         lon  \n",
       "0            Las Americas, Tijuana  32.500975 -116.896457  \n",
       "1  Hacienda Agua Caliente, Tijuana  32.488683 -116.999223  \n",
       "2       Lomas de La Presa, Tijuana  32.448786 -116.924895  \n",
       "3       Xicotencatl Leyva, Tijuana  32.538363 -116.931519  \n",
       "4                    Vaim, Tijuana  32.493642 -116.942191  "
      ]
     },
     "execution_count": 124,
     "metadata": {},
     "output_type": "execute_result"
    }
   ],
   "source": [
    "df_price.head()"
   ]
  },
  {
   "cell_type": "code",
   "execution_count": 125,
   "metadata": {},
   "outputs": [
    {
     "data": {
      "text/html": [
       "<div>\n",
       "<style scoped>\n",
       "    .dataframe tbody tr th:only-of-type {\n",
       "        vertical-align: middle;\n",
       "    }\n",
       "\n",
       "    .dataframe tbody tr th {\n",
       "        vertical-align: top;\n",
       "    }\n",
       "\n",
       "    .dataframe thead th {\n",
       "        text-align: right;\n",
       "    }\n",
       "</style>\n",
       "<table border=\"1\" class=\"dataframe\">\n",
       "  <thead>\n",
       "    <tr style=\"text-align: right;\">\n",
       "      <th></th>\n",
       "      <th>price</th>\n",
       "      <th>bedrooms</th>\n",
       "      <th>bathrooms</th>\n",
       "      <th>parkingSpots</th>\n",
       "      <th>propertySize</th>\n",
       "      <th>lat</th>\n",
       "      <th>lon</th>\n",
       "    </tr>\n",
       "  </thead>\n",
       "  <tbody>\n",
       "    <tr>\n",
       "      <th>count</th>\n",
       "      <td>8.870000e+02</td>\n",
       "      <td>877.000000</td>\n",
       "      <td>867.000000</td>\n",
       "      <td>799.000000</td>\n",
       "      <td>885.000000</td>\n",
       "      <td>888.000000</td>\n",
       "      <td>888.000000</td>\n",
       "    </tr>\n",
       "    <tr>\n",
       "      <th>mean</th>\n",
       "      <td>2.350548e+05</td>\n",
       "      <td>3.052452</td>\n",
       "      <td>2.438293</td>\n",
       "      <td>2.445557</td>\n",
       "      <td>259.010169</td>\n",
       "      <td>32.496347</td>\n",
       "      <td>-117.008395</td>\n",
       "    </tr>\n",
       "    <tr>\n",
       "      <th>std</th>\n",
       "      <td>3.066921e+05</td>\n",
       "      <td>0.920087</td>\n",
       "      <td>1.244595</td>\n",
       "      <td>7.107074</td>\n",
       "      <td>848.497535</td>\n",
       "      <td>0.029580</td>\n",
       "      <td>0.067410</td>\n",
       "    </tr>\n",
       "    <tr>\n",
       "      <th>min</th>\n",
       "      <td>8.250000e+03</td>\n",
       "      <td>1.000000</td>\n",
       "      <td>1.000000</td>\n",
       "      <td>1.000000</td>\n",
       "      <td>1.000000</td>\n",
       "      <td>32.389551</td>\n",
       "      <td>-117.123031</td>\n",
       "    </tr>\n",
       "    <tr>\n",
       "      <th>25%</th>\n",
       "      <td>8.600000e+04</td>\n",
       "      <td>3.000000</td>\n",
       "      <td>2.000000</td>\n",
       "      <td>2.000000</td>\n",
       "      <td>102.000000</td>\n",
       "      <td>32.483423</td>\n",
       "      <td>-117.038247</td>\n",
       "    </tr>\n",
       "    <tr>\n",
       "      <th>50%</th>\n",
       "      <td>1.540000e+05</td>\n",
       "      <td>3.000000</td>\n",
       "      <td>2.000000</td>\n",
       "      <td>2.000000</td>\n",
       "      <td>138.000000</td>\n",
       "      <td>32.511290</td>\n",
       "      <td>-117.038247</td>\n",
       "    </tr>\n",
       "    <tr>\n",
       "      <th>75%</th>\n",
       "      <td>2.825000e+05</td>\n",
       "      <td>3.000000</td>\n",
       "      <td>3.000000</td>\n",
       "      <td>2.000000</td>\n",
       "      <td>225.000000</td>\n",
       "      <td>32.514947</td>\n",
       "      <td>-116.977558</td>\n",
       "    </tr>\n",
       "    <tr>\n",
       "      <th>max</th>\n",
       "      <td>3.950000e+06</td>\n",
       "      <td>12.000000</td>\n",
       "      <td>15.000000</td>\n",
       "      <td>200.000000</td>\n",
       "      <td>15976.000000</td>\n",
       "      <td>32.559473</td>\n",
       "      <td>-116.733438</td>\n",
       "    </tr>\n",
       "  </tbody>\n",
       "</table>\n",
       "</div>"
      ],
      "text/plain": [
       "              price    bedrooms   bathrooms  parkingSpots  propertySize  \\\n",
       "count  8.870000e+02  877.000000  867.000000    799.000000    885.000000   \n",
       "mean   2.350548e+05    3.052452    2.438293      2.445557    259.010169   \n",
       "std    3.066921e+05    0.920087    1.244595      7.107074    848.497535   \n",
       "min    8.250000e+03    1.000000    1.000000      1.000000      1.000000   \n",
       "25%    8.600000e+04    3.000000    2.000000      2.000000    102.000000   \n",
       "50%    1.540000e+05    3.000000    2.000000      2.000000    138.000000   \n",
       "75%    2.825000e+05    3.000000    3.000000      2.000000    225.000000   \n",
       "max    3.950000e+06   12.000000   15.000000    200.000000  15976.000000   \n",
       "\n",
       "              lat         lon  \n",
       "count  888.000000  888.000000  \n",
       "mean    32.496347 -117.008395  \n",
       "std      0.029580    0.067410  \n",
       "min     32.389551 -117.123031  \n",
       "25%     32.483423 -117.038247  \n",
       "50%     32.511290 -117.038247  \n",
       "75%     32.514947 -116.977558  \n",
       "max     32.559473 -116.733438  "
      ]
     },
     "execution_count": 125,
     "metadata": {},
     "output_type": "execute_result"
    }
   ],
   "source": [
    "df_price.describe()"
   ]
  },
  {
   "cell_type": "code",
   "execution_count": 126,
   "metadata": {},
   "outputs": [],
   "source": [
    "def missing_data_df(df):\n",
    "    \n",
    "    missing_data = pd.concat([df.isnull().sum(),\n",
    "                              df.isnull().mean()*100],\n",
    "                              axis=1,\n",
    "                              keys=[\"Missing_Data\",\"Percent\"]\n",
    "                            )\n",
    "    missing_data = missing_data.sort_values(\"Percent\", \n",
    "                                            ascending=False,\n",
    "                                           )\n",
    "    return missing_data\n"
   ]
  },
  {
   "attachments": {},
   "cell_type": "markdown",
   "metadata": {},
   "source": [
    "**Percent of missing data in each column**"
   ]
  },
  {
   "cell_type": "code",
   "execution_count": 127,
   "metadata": {},
   "outputs": [
    {
     "data": {
      "text/html": [
       "<div>\n",
       "<style scoped>\n",
       "    .dataframe tbody tr th:only-of-type {\n",
       "        vertical-align: middle;\n",
       "    }\n",
       "\n",
       "    .dataframe tbody tr th {\n",
       "        vertical-align: top;\n",
       "    }\n",
       "\n",
       "    .dataframe thead th {\n",
       "        text-align: right;\n",
       "    }\n",
       "</style>\n",
       "<table border=\"1\" class=\"dataframe\">\n",
       "  <thead>\n",
       "    <tr style=\"text-align: right;\">\n",
       "      <th></th>\n",
       "      <th>Missing_Data</th>\n",
       "      <th>Percent</th>\n",
       "    </tr>\n",
       "  </thead>\n",
       "  <tbody>\n",
       "    <tr>\n",
       "      <th>parkingSpots</th>\n",
       "      <td>89</td>\n",
       "      <td>10.022523</td>\n",
       "    </tr>\n",
       "    <tr>\n",
       "      <th>bathrooms</th>\n",
       "      <td>21</td>\n",
       "      <td>2.364865</td>\n",
       "    </tr>\n",
       "    <tr>\n",
       "      <th>bedrooms</th>\n",
       "      <td>11</td>\n",
       "      <td>1.238739</td>\n",
       "    </tr>\n",
       "    <tr>\n",
       "      <th>propertySize</th>\n",
       "      <td>3</td>\n",
       "      <td>0.337838</td>\n",
       "    </tr>\n",
       "    <tr>\n",
       "      <th>price</th>\n",
       "      <td>1</td>\n",
       "      <td>0.112613</td>\n",
       "    </tr>\n",
       "    <tr>\n",
       "      <th>neighborhood</th>\n",
       "      <td>0</td>\n",
       "      <td>0.000000</td>\n",
       "    </tr>\n",
       "    <tr>\n",
       "      <th>lat</th>\n",
       "      <td>0</td>\n",
       "      <td>0.000000</td>\n",
       "    </tr>\n",
       "    <tr>\n",
       "      <th>lon</th>\n",
       "      <td>0</td>\n",
       "      <td>0.000000</td>\n",
       "    </tr>\n",
       "  </tbody>\n",
       "</table>\n",
       "</div>"
      ],
      "text/plain": [
       "              Missing_Data    Percent\n",
       "parkingSpots            89  10.022523\n",
       "bathrooms               21   2.364865\n",
       "bedrooms                11   1.238739\n",
       "propertySize             3   0.337838\n",
       "price                    1   0.112613\n",
       "neighborhood             0   0.000000\n",
       "lat                      0   0.000000\n",
       "lon                      0   0.000000"
      ]
     },
     "execution_count": 127,
     "metadata": {},
     "output_type": "execute_result"
    }
   ],
   "source": [
    "missing_data_df(df_price)"
   ]
  },
  {
   "cell_type": "code",
   "execution_count": 128,
   "metadata": {},
   "outputs": [
    {
     "data": {
      "text/plain": [
       "2.0     372\n",
       "3.0     227\n",
       "1.0     157\n",
       "4.0      71\n",
       "5.0      20\n",
       "7.0      11\n",
       "6.0       5\n",
       "8.0       2\n",
       "15.0      1\n",
       "10.0      1\n",
       "Name: bathrooms, dtype: int64"
      ]
     },
     "execution_count": 128,
     "metadata": {},
     "output_type": "execute_result"
    }
   ],
   "source": [
    "(df_price['bathrooms']\n",
    ".value_counts(ascending=False)\n",
    ")"
   ]
  },
  {
   "attachments": {},
   "cell_type": "markdown",
   "metadata": {},
   "source": [
    "**Preprocessing data**"
   ]
  },
  {
   "cell_type": "code",
   "execution_count": 129,
   "metadata": {},
   "outputs": [],
   "source": [
    "df_price['parkingSpots'].fillna(0,inplace=True)\n",
    "df_price['bathrooms'].fillna(df_price['bathrooms'].mode().iloc[0],inplace=True)\n",
    "df_price['bedrooms'].fillna(df_price['bedrooms'].mode().iloc[0],inplace=True)\n",
    "df_price['propertySize'].fillna(df_price['propertySize'].median(),inplace=True)\n",
    "df_price['price'].fillna(df_price['price'].median(),inplace=True)\n",
    "df_price['price'].fillna(df_price['price'].median(),inplace=True)"
   ]
  },
  {
   "cell_type": "code",
   "execution_count": 130,
   "metadata": {},
   "outputs": [
    {
     "data": {
      "text/plain": [
       "parkingSpots\n",
       "7.0      2.465000e+06\n",
       "6.0      6.530000e+05\n",
       "20.0     6.500000e+05\n",
       "5.0      6.418043e+05\n",
       "8.0      4.760000e+05\n",
       "4.0      4.042581e+05\n",
       "3.0      4.006161e+05\n",
       "0.0      2.527432e+05\n",
       "10.0     2.150000e+05\n",
       "2.0      2.011418e+05\n",
       "1.0      8.142765e+04\n",
       "200.0    1.400000e+04\n",
       "Name: price, dtype: float64"
      ]
     },
     "execution_count": 130,
     "metadata": {},
     "output_type": "execute_result"
    }
   ],
   "source": [
    "(df_price\n",
    "    .groupby('parkingSpots')['price']\n",
    "    .apply(lambda x: x.mean())\n",
    "    .sort_values(ascending=False)\n",
    ")"
   ]
  },
  {
   "cell_type": "code",
   "execution_count": 131,
   "metadata": {},
   "outputs": [
    {
     "data": {
      "image/png": "[encoded data removed]",
      "text/plain": [
       "<Figure size 800x600 with 1 Axes>"
      ]
     },
     "metadata": {},
     "output_type": "display_data"
    }
   ],
   "source": [
    "fig = plt.figure(figsize=(8,6))\n",
    "plt.scatter(df_price['parkingSpots'],df_price['price'])\n",
    "plt.show()"
   ]
  },
  {
   "cell_type": "code",
   "execution_count": 132,
   "metadata": {},
   "outputs": [
    {
     "data": {
      "text/plain": [
       "<Figure size 800x600 with 0 Axes>"
      ]
     },
     "metadata": {},
     "output_type": "display_data"
    },
    {
     "data": {
      "image/png": "[encoded data removed]",
      "text/plain": [
       "<Figure size 1000x1000 with 9 Axes>"
      ]
     },
     "metadata": {},
     "output_type": "display_data"
    }
   ],
   "source": [
    "fig = plt.figure(figsize=(8,6))\n",
    "df_price.hist(bins = 15,figsize=(10,10))\n",
    "plt.show()\n"
   ]
  },
  {
   "cell_type": "code",
   "execution_count": 133,
   "metadata": {},
   "outputs": [
    {
     "data": {
      "image/png": "[encoded data removed]",
      "text/plain": [
       "<Figure size 800x600 with 1 Axes>"
      ]
     },
     "metadata": {},
     "output_type": "display_data"
    }
   ],
   "source": [
    "var = 'bedrooms'\n",
    "data = pd.concat([df_price['price'], df_price[var]], axis=1)\n",
    "f, ax = plt.subplots(figsize=(8, 6))\n",
    "sns.boxplot(x = var, y  = 'price', data=data);"
   ]
  },
  {
   "cell_type": "code",
   "execution_count": 134,
   "metadata": {},
   "outputs": [
    {
     "data": {
      "image/png": "[encoded data removed]",
      "text/plain": [
       "<Figure size 800x600 with 4 Axes>"
      ]
     },
     "metadata": {},
     "output_type": "display_data"
    }
   ],
   "source": [
    "columns = ['bedrooms','bathrooms','parkingSpots','propertySize']\n",
    "index = 1\n",
    "fig = plt.figure(figsize=(8,6))\n",
    "for col in columns:\n",
    "    plt.subplot(2,2,index)\n",
    "    plt.scatter(df_price[col], df_price['price'])\n",
    "    index = index + 1\n",
    "fig.tight_layout(pad=1.0)"
   ]
  },
  {
   "cell_type": "code",
   "execution_count": 135,
   "metadata": {},
   "outputs": [],
   "source": [
    "mask_spots = df_price['parkingSpots']>150\n",
    "mask_Size = df_price['propertySize']>4000\n",
    "\n",
    "value  = df_price[mask_spots].index.values\n",
    "col_out = df_price[mask_Size].index.values\n",
    "df_price.loc[value,'parkingSpots'] = df_price['parkingSpots'].mode().loc[0]\n",
    "\n",
    "df_price.loc[col_out,'propertySize'] = df_price['propertySize'].median()"
   ]
  },
  {
   "cell_type": "code",
   "execution_count": 136,
   "metadata": {},
   "outputs": [
    {
     "data": {
      "image/png": "[encoded data removed]",
      "text/plain": [
       "<Figure size 800x600 with 1 Axes>"
      ]
     },
     "metadata": {},
     "output_type": "display_data"
    }
   ],
   "source": [
    "fig = plt.figure(figsize=(8,6))\n",
    "plt.scatter(df_price.propertySize,df_price.price)\n",
    "plt.show()"
   ]
  },
  {
   "cell_type": "code",
   "execution_count": 137,
   "metadata": {},
   "outputs": [
    {
     "data": {
      "text/html": [
       "<div>\n",
       "<style scoped>\n",
       "    .dataframe tbody tr th:only-of-type {\n",
       "        vertical-align: middle;\n",
       "    }\n",
       "\n",
       "    .dataframe tbody tr th {\n",
       "        vertical-align: top;\n",
       "    }\n",
       "\n",
       "    .dataframe thead th {\n",
       "        text-align: right;\n",
       "    }\n",
       "</style>\n",
       "<table border=\"1\" class=\"dataframe\">\n",
       "  <thead>\n",
       "    <tr style=\"text-align: right;\">\n",
       "      <th></th>\n",
       "      <th>price</th>\n",
       "      <th>bedrooms</th>\n",
       "      <th>bathrooms</th>\n",
       "      <th>parkingSpots</th>\n",
       "      <th>propertySize</th>\n",
       "      <th>lat</th>\n",
       "      <th>lon</th>\n",
       "    </tr>\n",
       "  </thead>\n",
       "  <tbody>\n",
       "    <tr>\n",
       "      <th>price</th>\n",
       "      <td>0.0</td>\n",
       "      <td>0.371323</td>\n",
       "      <td>0.543327</td>\n",
       "      <td>0.361825</td>\n",
       "      <td>0.612625</td>\n",
       "      <td>0.023835</td>\n",
       "      <td>0.139960</td>\n",
       "    </tr>\n",
       "    <tr>\n",
       "      <th>bedrooms</th>\n",
       "      <td>0.0</td>\n",
       "      <td>0.000000</td>\n",
       "      <td>0.622012</td>\n",
       "      <td>0.325982</td>\n",
       "      <td>0.342538</td>\n",
       "      <td>0.057412</td>\n",
       "      <td>0.087200</td>\n",
       "    </tr>\n",
       "    <tr>\n",
       "      <th>bathrooms</th>\n",
       "      <td>0.0</td>\n",
       "      <td>0.000000</td>\n",
       "      <td>0.000000</td>\n",
       "      <td>0.441673</td>\n",
       "      <td>0.447635</td>\n",
       "      <td>0.057402</td>\n",
       "      <td>0.208644</td>\n",
       "    </tr>\n",
       "    <tr>\n",
       "      <th>parkingSpots</th>\n",
       "      <td>0.0</td>\n",
       "      <td>0.000000</td>\n",
       "      <td>0.000000</td>\n",
       "      <td>0.000000</td>\n",
       "      <td>0.377456</td>\n",
       "      <td>0.013431</td>\n",
       "      <td>0.063497</td>\n",
       "    </tr>\n",
       "    <tr>\n",
       "      <th>propertySize</th>\n",
       "      <td>0.0</td>\n",
       "      <td>0.000000</td>\n",
       "      <td>0.000000</td>\n",
       "      <td>0.000000</td>\n",
       "      <td>0.000000</td>\n",
       "      <td>0.020022</td>\n",
       "      <td>0.051998</td>\n",
       "    </tr>\n",
       "    <tr>\n",
       "      <th>lat</th>\n",
       "      <td>0.0</td>\n",
       "      <td>0.000000</td>\n",
       "      <td>0.000000</td>\n",
       "      <td>0.000000</td>\n",
       "      <td>0.000000</td>\n",
       "      <td>0.000000</td>\n",
       "      <td>0.054947</td>\n",
       "    </tr>\n",
       "    <tr>\n",
       "      <th>lon</th>\n",
       "      <td>0.0</td>\n",
       "      <td>0.000000</td>\n",
       "      <td>0.000000</td>\n",
       "      <td>0.000000</td>\n",
       "      <td>0.000000</td>\n",
       "      <td>0.000000</td>\n",
       "      <td>0.000000</td>\n",
       "    </tr>\n",
       "  </tbody>\n",
       "</table>\n",
       "</div>"
      ],
      "text/plain": [
       "              price  bedrooms  bathrooms  parkingSpots  propertySize  \\\n",
       "price           0.0  0.371323   0.543327      0.361825      0.612625   \n",
       "bedrooms        0.0  0.000000   0.622012      0.325982      0.342538   \n",
       "bathrooms       0.0  0.000000   0.000000      0.441673      0.447635   \n",
       "parkingSpots    0.0  0.000000   0.000000      0.000000      0.377456   \n",
       "propertySize    0.0  0.000000   0.000000      0.000000      0.000000   \n",
       "lat             0.0  0.000000   0.000000      0.000000      0.000000   \n",
       "lon             0.0  0.000000   0.000000      0.000000      0.000000   \n",
       "\n",
       "                   lat       lon  \n",
       "price         0.023835  0.139960  \n",
       "bedrooms      0.057412  0.087200  \n",
       "bathrooms     0.057402  0.208644  \n",
       "parkingSpots  0.013431  0.063497  \n",
       "propertySize  0.020022  0.051998  \n",
       "lat           0.000000  0.054947  \n",
       "lon           0.000000  0.000000  "
      ]
     },
     "execution_count": 137,
     "metadata": {},
     "output_type": "execute_result"
    }
   ],
   "source": [
    "correlation = df_price.corr().abs()\n",
    "correlation.where(np.triu(correlation,k=1).astype(np.bool),0)"
   ]
  },
  {
   "cell_type": "markdown",
   "metadata": {},
   "source": [
    "**Manage_Location**"
   ]
  },
  {
   "cell_type": "code",
   "execution_count": 138,
   "metadata": {},
   "outputs": [],
   "source": [
    "# loc_ref = (32.524893,-117.116085)   # Referencia Playa\n",
    "# df_price['loc'] = df_price.apply(lambda df: (df['lat'],df['lon']), axis=1)\n",
    "# # df_price['dist'] = df_price['loc'].apply(lambda x: GRC(x,loc_ref).km)\n",
    "# df_price['dist'] = df_price['loc'].apply(lambda x: geodesic(x,loc_ref).km)\n"
   ]
  },
  {
   "cell_type": "code",
   "execution_count": 139,
   "metadata": {},
   "outputs": [],
   "source": [
    "# columns = ['lat','lon','neighborhood']\n",
    "# df_price.drop(columns=columns, axis=1,inplace=True)"
   ]
  },
  {
   "cell_type": "code",
   "execution_count": 140,
   "metadata": {},
   "outputs": [
    {
     "data": {
      "text/html": [
       "<div>\n",
       "<style scoped>\n",
       "    .dataframe tbody tr th:only-of-type {\n",
       "        vertical-align: middle;\n",
       "    }\n",
       "\n",
       "    .dataframe tbody tr th {\n",
       "        vertical-align: top;\n",
       "    }\n",
       "\n",
       "    .dataframe thead th {\n",
       "        text-align: right;\n",
       "    }\n",
       "</style>\n",
       "<table border=\"1\" class=\"dataframe\">\n",
       "  <thead>\n",
       "    <tr style=\"text-align: right;\">\n",
       "      <th></th>\n",
       "      <th>price</th>\n",
       "      <th>bedrooms</th>\n",
       "      <th>bathrooms</th>\n",
       "      <th>parkingSpots</th>\n",
       "      <th>propertySize</th>\n",
       "      <th>neighborhood</th>\n",
       "      <th>lat</th>\n",
       "      <th>lon</th>\n",
       "    </tr>\n",
       "  </thead>\n",
       "  <tbody>\n",
       "    <tr>\n",
       "      <th>0</th>\n",
       "      <td>150000.0</td>\n",
       "      <td>4.0</td>\n",
       "      <td>2.0</td>\n",
       "      <td>3.0</td>\n",
       "      <td>130.0</td>\n",
       "      <td>Las Americas, Tijuana</td>\n",
       "      <td>32.500975</td>\n",
       "      <td>-116.896457</td>\n",
       "    </tr>\n",
       "    <tr>\n",
       "      <th>1</th>\n",
       "      <td>774900.0</td>\n",
       "      <td>3.0</td>\n",
       "      <td>3.0</td>\n",
       "      <td>2.0</td>\n",
       "      <td>550.0</td>\n",
       "      <td>Hacienda Agua Caliente, Tijuana</td>\n",
       "      <td>32.488683</td>\n",
       "      <td>-116.999223</td>\n",
       "    </tr>\n",
       "    <tr>\n",
       "      <th>2</th>\n",
       "      <td>150000.0</td>\n",
       "      <td>3.0</td>\n",
       "      <td>2.0</td>\n",
       "      <td>2.0</td>\n",
       "      <td>107.0</td>\n",
       "      <td>Lomas de La Presa, Tijuana</td>\n",
       "      <td>32.448786</td>\n",
       "      <td>-116.924895</td>\n",
       "    </tr>\n",
       "    <tr>\n",
       "      <th>3</th>\n",
       "      <td>385000.0</td>\n",
       "      <td>4.0</td>\n",
       "      <td>3.0</td>\n",
       "      <td>3.0</td>\n",
       "      <td>350.0</td>\n",
       "      <td>Xicotencatl Leyva, Tijuana</td>\n",
       "      <td>32.538363</td>\n",
       "      <td>-116.931519</td>\n",
       "    </tr>\n",
       "    <tr>\n",
       "      <th>4</th>\n",
       "      <td>70000.0</td>\n",
       "      <td>2.0</td>\n",
       "      <td>1.0</td>\n",
       "      <td>1.0</td>\n",
       "      <td>80.0</td>\n",
       "      <td>Vaim, Tijuana</td>\n",
       "      <td>32.493642</td>\n",
       "      <td>-116.942191</td>\n",
       "    </tr>\n",
       "  </tbody>\n",
       "</table>\n",
       "</div>"
      ],
      "text/plain": [
       "      price  bedrooms  bathrooms  parkingSpots  propertySize  \\\n",
       "0  150000.0       4.0        2.0           3.0         130.0   \n",
       "1  774900.0       3.0        3.0           2.0         550.0   \n",
       "2  150000.0       3.0        2.0           2.0         107.0   \n",
       "3  385000.0       4.0        3.0           3.0         350.0   \n",
       "4   70000.0       2.0        1.0           1.0          80.0   \n",
       "\n",
       "                      neighborhood        lat         lon  \n",
       "0            Las Americas, Tijuana  32.500975 -116.896457  \n",
       "1  Hacienda Agua Caliente, Tijuana  32.488683 -116.999223  \n",
       "2       Lomas de La Presa, Tijuana  32.448786 -116.924895  \n",
       "3       Xicotencatl Leyva, Tijuana  32.538363 -116.931519  \n",
       "4                    Vaim, Tijuana  32.493642 -116.942191  "
      ]
     },
     "execution_count": 140,
     "metadata": {},
     "output_type": "execute_result"
    }
   ],
   "source": [
    "df_price.head()"
   ]
  },
  {
   "cell_type": "code",
   "execution_count": 141,
   "metadata": {},
   "outputs": [],
   "source": [
    "col_num = ['propertySize', 'price']\n",
    "numeric_feature = df_price[col_num].apply(lambda x: skew(x)).sort_values(ascending=False)\n",
    "skewness = pd.DataFrame(numeric_feature,columns=['Skew'])\n",
    "# lam=0.13\n",
    "for col in skewness.index:\n",
    "    # df_price[col] = boxcox1p(df_price[col], lam)\n",
    "    df_price[col] = np.log1p(df_price[col])"
   ]
  },
  {
   "cell_type": "code",
   "execution_count": 142,
   "metadata": {},
   "outputs": [],
   "source": [
    "y = df_price['price'].values\n",
    "X = df_price.drop(['price', 'neighborhood'], axis=1)"
   ]
  },
  {
   "cell_type": "code",
   "execution_count": 143,
   "metadata": {},
   "outputs": [
    {
     "data": {
      "text/html": [
       "<div>\n",
       "<style scoped>\n",
       "    .dataframe tbody tr th:only-of-type {\n",
       "        vertical-align: middle;\n",
       "    }\n",
       "\n",
       "    .dataframe tbody tr th {\n",
       "        vertical-align: top;\n",
       "    }\n",
       "\n",
       "    .dataframe thead th {\n",
       "        text-align: right;\n",
       "    }\n",
       "</style>\n",
       "<table border=\"1\" class=\"dataframe\">\n",
       "  <thead>\n",
       "    <tr style=\"text-align: right;\">\n",
       "      <th></th>\n",
       "      <th>bedrooms</th>\n",
       "      <th>bathrooms</th>\n",
       "      <th>parkingSpots</th>\n",
       "      <th>propertySize</th>\n",
       "      <th>lat</th>\n",
       "      <th>lon</th>\n",
       "    </tr>\n",
       "  </thead>\n",
       "  <tbody>\n",
       "    <tr>\n",
       "      <th>0</th>\n",
       "      <td>4.0</td>\n",
       "      <td>2.0</td>\n",
       "      <td>3.0</td>\n",
       "      <td>4.875197</td>\n",
       "      <td>32.500975</td>\n",
       "      <td>-116.896457</td>\n",
       "    </tr>\n",
       "    <tr>\n",
       "      <th>1</th>\n",
       "      <td>3.0</td>\n",
       "      <td>3.0</td>\n",
       "      <td>2.0</td>\n",
       "      <td>6.311735</td>\n",
       "      <td>32.488683</td>\n",
       "      <td>-116.999223</td>\n",
       "    </tr>\n",
       "    <tr>\n",
       "      <th>2</th>\n",
       "      <td>3.0</td>\n",
       "      <td>2.0</td>\n",
       "      <td>2.0</td>\n",
       "      <td>4.682131</td>\n",
       "      <td>32.448786</td>\n",
       "      <td>-116.924895</td>\n",
       "    </tr>\n",
       "    <tr>\n",
       "      <th>3</th>\n",
       "      <td>4.0</td>\n",
       "      <td>3.0</td>\n",
       "      <td>3.0</td>\n",
       "      <td>5.860786</td>\n",
       "      <td>32.538363</td>\n",
       "      <td>-116.931519</td>\n",
       "    </tr>\n",
       "    <tr>\n",
       "      <th>4</th>\n",
       "      <td>2.0</td>\n",
       "      <td>1.0</td>\n",
       "      <td>1.0</td>\n",
       "      <td>4.394449</td>\n",
       "      <td>32.493642</td>\n",
       "      <td>-116.942191</td>\n",
       "    </tr>\n",
       "  </tbody>\n",
       "</table>\n",
       "</div>"
      ],
      "text/plain": [
       "   bedrooms  bathrooms  parkingSpots  propertySize        lat         lon\n",
       "0       4.0        2.0           3.0      4.875197  32.500975 -116.896457\n",
       "1       3.0        3.0           2.0      6.311735  32.488683 -116.999223\n",
       "2       3.0        2.0           2.0      4.682131  32.448786 -116.924895\n",
       "3       4.0        3.0           3.0      5.860786  32.538363 -116.931519\n",
       "4       2.0        1.0           1.0      4.394449  32.493642 -116.942191"
      ]
     },
     "execution_count": 143,
     "metadata": {},
     "output_type": "execute_result"
    }
   ],
   "source": [
    "X.head()"
   ]
  },
  {
   "cell_type": "code",
   "execution_count": 144,
   "metadata": {},
   "outputs": [
    {
     "data": {
      "text/plain": [
       "((754, 6), (134, 6), (754,), (134,))"
      ]
     },
     "execution_count": 144,
     "metadata": {},
     "output_type": "execute_result"
    }
   ],
   "source": [
    "scaler = RobustScaler()\n",
    "X_transform = scaler.fit_transform(X)\n",
    "X_train,X_test,y_train,y_test = train_test_split(X_transform,y,test_size=0.15,random_state=42)\n",
    "\n",
    "X_train.shape , X_test.shape , y_train.shape , y_test.shape"
   ]
  },
  {
   "cell_type": "code",
   "execution_count": 145,
   "metadata": {},
   "outputs": [],
   "source": [
    "import xgboost\n",
    "regressor=xgboost.XGBRegressor()"
   ]
  },
  {
   "cell_type": "code",
   "execution_count": 146,
   "metadata": {},
   "outputs": [],
   "source": [
    "base_score=[0.15, 0.2,0.25]\n",
    "\n",
    "n_estimators = [850, 900, 950]\n",
    "max_depth = [2, 3, 5, 10, 15]\n",
    "booster=['gbtree']\n",
    "learning_rate=[0.03, 0.05,0.1]\n",
    "min_child_weight=[1,2,3,4]\n",
    "\n",
    "hyperparameter_grid = {\n",
    "    'n_estimators': n_estimators,\n",
    "    'max_depth':max_depth,\n",
    "    'learning_rate':learning_rate,\n",
    "    'min_child_weight':min_child_weight,\n",
    "    'booster':booster,\n",
    "    'base_score':base_score\n",
    "     }"
   ]
  },
  {
   "cell_type": "code",
   "execution_count": 147,
   "metadata": {},
   "outputs": [
    {
     "data": {
      "text/plain": [
       "RandomizedSearchCV(cv=5,\n",
       "                   estimator=XGBRegressor(base_score=None, booster=None,\n",
       "                                          colsample_bylevel=None,\n",
       "                                          colsample_bynode=None,\n",
       "                                          colsample_bytree=None,\n",
       "                                          enable_categorical=False, gamma=None,\n",
       "                                          gpu_id=None, importance_type=None,\n",
       "                                          interaction_constraints=None,\n",
       "                                          learning_rate=None,\n",
       "                                          max_delta_step=None, max_depth=None,\n",
       "                                          min_child_weight=None, missing=nan,\n",
       "                                          monotone_constraints=...\n",
       "                                          scale_pos_weight=None, subsample=None,\n",
       "                                          tree_method=None,\n",
       "                                          validate_parameters=None,\n",
       "                                          verbosity=None),\n",
       "                   n_iter=50, n_jobs=4,\n",
       "                   param_distributions={'base_score': [0.15, 0.2, 0.25],\n",
       "                                        'booster': ['gbtree'],\n",
       "                                        'learning_rate': [0.03, 0.05, 0.1],\n",
       "                                        'max_depth': [2, 3, 5, 10, 15],\n",
       "                                        'min_child_weight': [1, 2, 3, 4],\n",
       "                                        'n_estimators': [850, 900, 950]},\n",
       "                   random_state=42, scoring='neg_mean_absolute_error')"
      ]
     },
     "execution_count": 147,
     "metadata": {},
     "output_type": "execute_result"
    }
   ],
   "source": [
    "from sklearn.model_selection import RandomizedSearchCV\n",
    "\n",
    "random_cv = RandomizedSearchCV(estimator=regressor,\n",
    "            param_distributions=hyperparameter_grid,\n",
    "            cv=5, \n",
    "            n_iter=50,\n",
    "            scoring = 'neg_mean_absolute_error', \n",
    "            n_jobs=4,\n",
    "            random_state=42\n",
    "            )\n",
    "random_cv.fit(X_train,y_train)"
   ]
  },
  {
   "cell_type": "code",
   "execution_count": 148,
   "metadata": {},
   "outputs": [
    {
     "data": {
      "text/plain": [
       "XGBRegressor(base_score=0.25, booster='gbtree', colsample_bylevel=1,\n",
       "             colsample_bynode=1, colsample_bytree=1, enable_categorical=False,\n",
       "             gamma=0, gpu_id=-1, importance_type=None,\n",
       "             interaction_constraints='', learning_rate=0.05, max_delta_step=0,\n",
       "             max_depth=10, min_child_weight=3, missing=nan,\n",
       "             monotone_constraints='()', n_estimators=950, n_jobs=12,\n",
       "             num_parallel_tree=1, predictor='auto', random_state=0, reg_alpha=0,\n",
       "             reg_lambda=1, scale_pos_weight=1, subsample=1, tree_method='exact',\n",
       "             validate_parameters=1, verbosity=None)"
      ]
     },
     "execution_count": 148,
     "metadata": {},
     "output_type": "execute_result"
    }
   ],
   "source": [
    "best_xgb = random_cv.best_estimator_\n",
    "best_xgb"
   ]
  },
  {
   "attachments": {},
   "cell_type": "markdown",
   "metadata": {},
   "source": [
    "**R2 metrics between predicted and real output value respectively**"
   ]
  },
  {
   "cell_type": "code",
   "execution_count": 149,
   "metadata": {},
   "outputs": [
    {
     "name": "stdout",
     "output_type": "stream",
     "text": [
      "0.8833864907470141\n"
     ]
    }
   ],
   "source": [
    "y_test_pred = best_xgb.predict(X_test)\n",
    "y_test_pred = np.expm1(y_test_pred)\n",
    "y_test = np.expm1(y_test)\n",
    "\n",
    "\n",
    "r2 = r2_score(y_test,y_test_pred)\n",
    "print(r2)"
   ]
  }
 ],
 "metadata": {
  "kernelspec": {
   "display_name": "Python 3.9.7 ('base')",
   "language": "python",
   "name": "python3"
  },
  "language_info": {
   "codemirror_mode": {
    "name": "ipython",
    "version": 3
   },
   "file_extension": ".py",
   "mimetype": "text/x-python",
   "name": "python",
   "nbconvert_exporter": "python",
   "pygments_lexer": "ipython3",
   "version": "3.9.15"
  },
  "orig_nbformat": 4,
  "vscode": {
   "interpreter": {
    "hash": "f3a52463084db90f96d29dcfcfd9bf276dba3c521d76c4c38c835392b64a093b"
   }
  }
 },
 "nbformat": 4,
 "nbformat_minor": 2
}
